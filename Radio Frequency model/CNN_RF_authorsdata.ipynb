{
 "cells": [
  {
   "cell_type": "code",
   "execution_count": 1,
   "id": "93efae90",
   "metadata": {},
   "outputs": [],
   "source": [
    "import numpy as np\n",
    "import matplotlib.pyplot as plt\n",
    "\n",
    "df = np.loadtxt('C:/Users/Vidyuth/OneDrive/Documents/Data/RF_Data.csv', delimiter = ',')"
   ]
  },
  {
   "cell_type": "code",
   "execution_count": 2,
   "id": "431aee74",
   "metadata": {},
   "outputs": [
    {
     "data": {
      "text/plain": [
       "(2051, 22700)"
      ]
     },
     "execution_count": 2,
     "metadata": {},
     "output_type": "execute_result"
    }
   ],
   "source": [
    "df.shape"
   ]
  },
  {
   "cell_type": "code",
   "execution_count": 3,
   "id": "e980f58c",
   "metadata": {},
   "outputs": [],
   "source": [
    "from keras.utils import to_categorical\n",
    "from keras.models import Sequential\n",
    "from keras import regularizers\n",
    "from keras.layers import Dense\n",
    "from keras.layers import Conv1D,MaxPooling1D, Flatten\n",
    "from keras.layers import Conv2D, GlobalMaxPooling1D\n",
    "from keras.layers.core import Reshape\n",
    "from sklearn.model_selection import StratifiedKFold\n",
    "from keras.layers import Dense, Dropout"
   ]
  },
  {
   "cell_type": "code",
   "execution_count": 5,
   "id": "4b00d9d1",
   "metadata": {},
   "outputs": [],
   "source": [
    "def decode(datum):\n",
    "    y = np.zeros((datum.shape[0],1))\n",
    "    for i in range(datum.shape[0]):\n",
    "        y[i] = np.argmax(datum[i])\n",
    "    return y\n",
    "def encode(datum):\n",
    "    return to_categorical(datum)"
   ]
  },
  {
   "cell_type": "code",
   "execution_count": 5,
   "id": "cd4ffc5e",
   "metadata": {},
   "outputs": [],
   "source": [
    "np.random.seed(1)\n",
    "K                    = 10\n",
    "inner_activation_fun = 'relu'\n",
    "outer_activation_fun = 'sigmoid'\n",
    "optimizer_loss_fun   = 'mse'\n",
    "optimizer_algorithm  = 'adam'\n",
    "number_inner_layers  = 3\n",
    "number_inner_neurons = 256\n",
    "number_epoch         = 100\n",
    "batch_length         = 50\n",
    "show_inter_results   = 2"
   ]
  },
  {
   "cell_type": "code",
   "execution_count": 6,
   "id": "adf31bdd",
   "metadata": {},
   "outputs": [],
   "source": [
    "x = np.transpose(df[0:2047,:])\n",
    "Label_1 = np.transpose(df[2048:2049,:]); Label_1 = Label_1.astype(int);\n",
    "Label_2 = np.transpose(df[2049:2050,:]); Label_2 = Label_2.astype(int);\n",
    "Label_3 = np.transpose(df[2050:2051,:]); Label_3 = Label_3.astype(int);\n",
    "y = encode(Label_1)"
   ]
  },
  {
   "cell_type": "code",
   "execution_count": 9,
   "id": "b8daed12",
   "metadata": {},
   "outputs": [],
   "source": [
    "from sklearn.model_selection import train_test_split\n",
    "x_train, x_test, y_train, y_test = train_test_split(x, y, test_size=0.2, random_state=7)"
   ]
  },
  {
   "cell_type": "code",
   "execution_count": 11,
   "id": "87b4b49f",
   "metadata": {},
   "outputs": [
    {
     "name": "stdout",
     "output_type": "stream",
     "text": [
      "(4540, 2)\n"
     ]
    },
    {
     "ename": "NameError",
     "evalue": "name 'K' is not defined",
     "output_type": "error",
     "traceback": [
      "\u001b[1;31m---------------------------------------------------------------------------\u001b[0m",
      "\u001b[1;31mNameError\u001b[0m                                 Traceback (most recent call last)",
      "Input \u001b[1;32mIn [11]\u001b[0m, in \u001b[0;36m<cell line: 4>\u001b[1;34m()\u001b[0m\n\u001b[0;32m      2\u001b[0m cnt         \u001b[38;5;241m=\u001b[39m \u001b[38;5;241m0\u001b[39m\n\u001b[0;32m      3\u001b[0m \u001b[38;5;28mprint\u001b[39m(y_test\u001b[38;5;241m.\u001b[39mshape)\n\u001b[1;32m----> 4\u001b[0m kfold \u001b[38;5;241m=\u001b[39m StratifiedKFold(n_splits\u001b[38;5;241m=\u001b[39m\u001b[43mK\u001b[49m, shuffle\u001b[38;5;241m=\u001b[39m\u001b[38;5;28;01mTrue\u001b[39;00m, random_state\u001b[38;5;241m=\u001b[39m\u001b[38;5;241m1\u001b[39m)\n\u001b[0;32m      5\u001b[0m \u001b[38;5;28;01mfor\u001b[39;00m train, test \u001b[38;5;129;01min\u001b[39;00m kfold\u001b[38;5;241m.\u001b[39msplit(x, decode(y)):\n\u001b[0;32m      6\u001b[0m     \u001b[38;5;28mprint\u001b[39m(x\u001b[38;5;241m.\u001b[39mshape, test\u001b[38;5;241m.\u001b[39mshape)\n",
      "\u001b[1;31mNameError\u001b[0m: name 'K' is not defined"
     ]
    }
   ],
   "source": [
    "cvscores    = []\n",
    "cnt         = 0\n",
    "print(y_test.shape)\n",
    "kfold = StratifiedKFold(n_splits=K, shuffle=True, random_state=1)\n",
    "for train, test in kfold.split(x_train, decode(y_train)):\n",
    "    cnt = cnt + 1\n",
    "    print(cnt)\n",
    "    cnn = Sequential()\n",
    "    print(x.shape[1],1)\n",
    "    print('x_train shape:', x[train].shape)\n",
    "    \n",
    "    cnn = Sequential()\n",
    "    cnn.add(Reshape((x.shape[1], 1), input_shape=(x.shape[1], )))\n",
    "    \n",
    "    cnn.add(Conv1D(32,3,  activation='relu',padding='same'))\n",
    "    cnn.add(MaxPooling1D(3))\n",
    "    \n",
    "    cnn.add(Conv1D(64,3, activation='relu',padding='same'))\n",
    "    cnn.add(MaxPooling1D(3))\n",
    "    \n",
    "    cnn.add(Conv1D(128,3,  activation='relu',padding='same'))\n",
    "    cnn.add(MaxPooling1D(3))\n",
    "    \n",
    "    cnn.add(Conv1D(128,3,  activation='relu',padding='same'))\n",
    "    cnn.add(MaxPooling1D(3))\n",
    "    cnn.add(Dropout(0.25))\n",
    "    \n",
    "    cnn.add(Flatten())\n",
    "    cnn.add(Dense(256, activation = inner_activation_fun))\n",
    "    \n",
    "    cnn.add(Dense(y.shape[1],activation='sigmoid'))\n",
    "    \n",
    "    print('Compiling')\n",
    "    cnn.compile(loss = optimizer_loss_fun, optimizer = optimizer_algorithm, metrics =         ['accuracy'])\n",
    "    print('Compilation is complete')\n",
    "    print('fitting the model')\n",
    "    cnn.fit(x[train], y[train], batch_size=batch_length , epochs=number_epoch , validation_data=(x[test], y[test]),verbose=show_inter_results)\n",
    "    print(cnn.summary())\n",
    "\n",
    "    print('fitting complete \\n Evaluating:')\n",
    "    scores = cnn.evaluate(x[test], y[test], verbose = show_inter_results)\n",
    "    print(scores[1]*100)\n",
    "    cvscores.append(scores[1]*100)\n",
    "    print('Predicting the final results')\n",
    "    y_pred = cnn.predict(x[test])\n",
    "    np.savetxt(\"C:/Users/Vidyuth/OneDrive/Documents/Data/Results_9%s.csv\" % cnt, np.column_stack((y[test], y_pred)), delimiter=\",\", fmt='%s')"
   ]
  },
  {
   "cell_type": "code",
   "execution_count": null,
   "id": "ceeb07a1",
   "metadata": {},
   "outputs": [],
   "source": []
  }
 ],
 "metadata": {
  "kernelspec": {
   "display_name": "Python 3 (ipykernel)",
   "language": "python",
   "name": "python3"
  },
  "language_info": {
   "codemirror_mode": {
    "name": "ipython",
    "version": 3
   },
   "file_extension": ".py",
   "mimetype": "text/x-python",
   "name": "python",
   "nbconvert_exporter": "python",
   "pygments_lexer": "ipython3",
   "version": "3.10.1"
  }
 },
 "nbformat": 4,
 "nbformat_minor": 5
}
